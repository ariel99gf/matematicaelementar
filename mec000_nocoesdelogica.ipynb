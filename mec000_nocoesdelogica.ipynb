{
 "cells": [
  {
   "cell_type": "markdown",
   "id": "a3e65785-28f5-47b3-9248-d12950c32ee1",
   "metadata": {},
   "source": [
    "# Noções de Lógica\n",
    "### Matemática Elementar para Computação #0"
   ]
  },
  {
   "cell_type": "markdown",
   "id": "98b80606-ed26-41f4-930d-2df365f1151e",
   "metadata": {},
   "source": [
    "# Proposição"
   ]
  },
  {
   "cell_type": "code",
   "execution_count": 37,
   "id": "f94f1a2d-381f-4975-aaf9-0b40bb957f2f",
   "metadata": {},
   "outputs": [],
   "source": [
    "from IPython.display import display, Markdown"
   ]
  },
  {
   "cell_type": "code",
   "execution_count": 31,
   "id": "fe58db40-030b-4598-a3eb-3aec50df3fa7",
   "metadata": {},
   "outputs": [],
   "source": [
    "idade = 7"
   ]
  },
  {
   "cell_type": "code",
   "execution_count": 32,
   "id": "3a5c9533-8eed-4aa8-871f-873cb034cd8a",
   "metadata": {},
   "outputs": [
    {
     "data": {
      "text/plain": [
       "False"
      ]
     },
     "execution_count": 32,
     "metadata": {},
     "output_type": "execute_result"
    }
   ],
   "source": [
    "idade >= 18"
   ]
  },
  {
   "cell_type": "code",
   "execution_count": 33,
   "id": "afd555f6-36f0-46f8-b65d-6fdfa418ccac",
   "metadata": {},
   "outputs": [],
   "source": [
    "if idade >= 18:\n",
    "    markdown_text = f\"\"\"\n",
    "        é obrigado a votar!\n",
    "    \"\"\""
   ]
  },
  {
   "cell_type": "markdown",
   "id": "049e41ac-22d7-4f83-8b8c-218b4f6ecf16",
   "metadata": {},
   "source": [
    "## Conectivo \"E\""
   ]
  },
  {
   "cell_type": "markdown",
   "id": "059a624f-8a6b-4240-ba0f-979a43ccfacf",
   "metadata": {},
   "source": [
    "Pode ser escrito como **E**, **AND**, **^**, **&&**, **&** dependendo do contexto."
   ]
  },
  {
   "cell_type": "markdown",
   "id": "b1922c57-c4be-424f-bc0e-bb6ca21b86bd",
   "metadata": {},
   "source": [
    "**Verdadeiro** apenas quando os dois lados são verdadeiros."
   ]
  },
  {
   "cell_type": "markdown",
   "id": "1d7137f1-b139-4648-96d6-20ce9c986b52",
   "metadata": {},
   "source": [
    "**Falso**, caso contrário."
   ]
  },
  {
   "cell_type": "markdown",
   "id": "22cb8c0d-13a3-43f6-b6be-e51adbc9a7ff",
   "metadata": {},
   "source": [
    "| p | q | p ^ q |\n",
    "| --- |:---:| :---:|\n",
    "| V | V | V |\n",
    "| V | F | F |\n",
    "| F | V | F |\n",
    "| F | F | F |"
   ]
  },
  {
   "cell_type": "markdown",
   "id": "86952bac-ad36-4732-8a32-3e7ba7e93511",
   "metadata": {},
   "source": [
    "# voto deixa de ser obrigatório a partir de 70 anos"
   ]
  },
  {
   "cell_type": "code",
   "execution_count": 34,
   "id": "b1b45587-0116-473d-b03b-7fc91c45d73f",
   "metadata": {},
   "outputs": [
    {
     "data": {
      "text/markdown": [
       "\n",
       "# Conectivo OU\n",
       "\n",
       "Pode ser escrito como **OU**, **OR**, **v**, **||**, **|** dependendo do contexto.\n",
       "\n",
       "**Verdadeiro** se ao menos um dos dois lados for verdadeiro.\n",
       "**Falso**, caso contrário.\n",
       "\n",
       "| p | q | p v q |\n",
       "| --- |:---:| :---:|\n",
       "| V | V | V |\n",
       "| V | F | V |\n",
       "| F | V | V |\n",
       "| F | F | F |\n"
      ],
      "text/plain": [
       "<IPython.core.display.Markdown object>"
      ]
     },
     "metadata": {},
     "output_type": "display_data"
    }
   ],
   "source": [
    "if idade >= 18 and idade < 70:\n",
    "    markdown_text = f\"\"\"\n",
    "        # \"é obrigado a votar!\"\n",
    "    \"\"\"\n",
    "display(Markdown(markdown_text))"
   ]
  },
  {
   "cell_type": "code",
   "execution_count": 45,
   "id": "6611fc5c-9a35-4596-ac57-004c57e703e0",
   "metadata": {},
   "outputs": [
    {
     "data": {
      "text/markdown": [
       "Voto é **facultativo**!"
      ],
      "text/plain": [
       "<IPython.core.display.Markdown object>"
      ]
     },
     "metadata": {},
     "output_type": "display_data"
    }
   ],
   "source": [
    "if idade in [16, 17] or idade >= 70:\n",
    "    display(Markdown(\"Voto é **facultativo**!\"))"
   ]
  },
  {
   "cell_type": "code",
   "execution_count": 43,
   "id": "ce264a2d-2cdd-43d5-b889-6d4905a69a87",
   "metadata": {},
   "outputs": [
    {
     "data": {
      "text/markdown": [
       "\n",
       "# Negação\n",
       "\n",
       "Pode ser escrito como **NÃO**, **NOT**, **~**, **!** dependendo do contexto.\n",
       "\n",
       "**Inverte o valor lógico** de uma proposição. V torna-se F e F torna-se V.\n"
      ],
      "text/plain": [
       "<IPython.core.display.Markdown object>"
      ]
     },
     "metadata": {},
     "output_type": "display_data"
    }
   ],
   "source": [
    "markdown_text = \"\"\"\n",
    "# Negação\n",
    "\n",
    "Pode ser escrito como **NÃO**, **NOT**, **~**, **!** dependendo do contexto.\n",
    "\n",
    "**Inverte o valor lógico** de uma proposição. V torna-se F e F torna-se V.\n",
    "\"\"\"\n",
    "display(Markdown(markdown_text))"
   ]
  },
  {
   "cell_type": "markdown",
   "id": "c6fbff2a-ee40-4baf-8288-5b651d26f3e1",
   "metadata": {},
   "source": [
    "### Negando o E"
   ]
  },
  {
   "cell_type": "code",
   "execution_count": 47,
   "id": "f27ffffe-fe26-4788-bef4-b7bc8dac7f44",
   "metadata": {},
   "outputs": [
    {
     "data": {
      "text/markdown": [
       "Não é obrigado a votar"
      ],
      "text/plain": [
       "<IPython.core.display.Markdown object>"
      ]
     },
     "metadata": {},
     "output_type": "display_data"
    }
   ],
   "source": [
    "if not (idade >= 18) and (idade < 70):\n",
    "    display(Markdown(\"Não é obrigado a votar\"))"
   ]
  },
  {
   "cell_type": "code",
   "execution_count": 48,
   "id": "76b2eeae-d367-47b5-a00d-5efdd09726cc",
   "metadata": {},
   "outputs": [
    {
     "data": {
      "text/markdown": [
       "Não é obrigado a votar"
      ],
      "text/plain": [
       "<IPython.core.display.Markdown object>"
      ]
     },
     "metadata": {},
     "output_type": "display_data"
    }
   ],
   "source": [
    "if not (idade >= 18) or not (idade < 70):\n",
    "    display(Markdown(\"Não é obrigado a votar\"))"
   ]
  },
  {
   "cell_type": "markdown",
   "id": "c53551f4-cbd6-46c7-802c-697559aedd18",
   "metadata": {},
   "source": [
    "### Negando o OU\""
   ]
  },
  {
   "cell_type": "code",
   "execution_count": 49,
   "id": "b6857b5a-0420-471e-b2c5-c57fc92d8d14",
   "metadata": {},
   "outputs": [],
   "source": [
    "if not (idade in [16, 17] or idade >= 70):\n",
    "    display(Markdown(\"Seu voto **NÃO** é facultativo!\"))"
   ]
  },
  {
   "cell_type": "code",
   "execution_count": 50,
   "id": "cee7f145-061e-410b-a498-52820ef39dce",
   "metadata": {},
   "outputs": [],
   "source": [
    "if not (idade in [16, 17]) and not (idade >= 70):\n",
    "    display(Markdown(\"Seu voto **NÃO** é facultativo!\"))"
   ]
  },
  {
   "cell_type": "code",
   "execution_count": null,
   "id": "3b533a7f-32d7-4bf3-9d50-62bb5a1753c9",
   "metadata": {},
   "outputs": [],
   "source": []
  }
 ],
 "metadata": {
  "kernelspec": {
   "display_name": "Python 3 (ipykernel)",
   "language": "python",
   "name": "python3"
  },
  "language_info": {
   "codemirror_mode": {
    "name": "ipython",
    "version": 3
   },
   "file_extension": ".py",
   "mimetype": "text/x-python",
   "name": "python",
   "nbconvert_exporter": "python",
   "pygments_lexer": "ipython3",
   "version": "3.13.0"
  }
 },
 "nbformat": 4,
 "nbformat_minor": 5
}

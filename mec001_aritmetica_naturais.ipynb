{
 "cells": [
  {
   "cell_type": "markdown",
   "id": "9741f8f4-a57d-47b1-a2f4-77c17ddca1fc",
   "metadata": {},
   "source": [
    "# Aritmética com Números Naturais"
   ]
  },
  {
   "cell_type": "code",
   "execution_count": 1,
   "id": "99ead847-0ae1-49a6-a2c0-57798c3b9897",
   "metadata": {},
   "outputs": [],
   "source": [
    "from IPython.display import display, Markdown"
   ]
  },
  {
   "cell_type": "markdown",
   "id": "04b596f1-7928-45ca-b306-c0aa19d3d3fd",
   "metadata": {},
   "source": [
    "Conjunto dos números naturais: $$\\mathbb{N}=\\{0, 1, 2, 3, 4, 5, 6, 7, 8, 9, 10, 11, ...\\}$$"
   ]
  },
  {
   "cell_type": "markdown",
   "id": "5523e018-8d4d-4234-8986-94a24c122b0b",
   "metadata": {},
   "source": [
    "# Adição, +\n",
    "\n",
    "Propriedades\n",
    "1. Comutatividade\n",
    "2. Associatividade\n",
    "3. Fechamento\n",
    "4. Elemento Neutro"
   ]
  },
  {
   "cell_type": "markdown",
   "id": "fc2ceb67-cb82-4067-b891-31a0d063a14e",
   "metadata": {},
   "source": [
    "# comutatividade"
   ]
  },
  {
   "cell_type": "code",
   "execution_count": 6,
   "id": "2b366027-9830-483d-b9c8-85556e82bb11",
   "metadata": {},
   "outputs": [
    {
     "data": {
      "text/plain": [
       "True"
      ]
     },
     "execution_count": 6,
     "metadata": {},
     "output_type": "execute_result"
    }
   ],
   "source": [
    "1 + 2 == 2 + 1"
   ]
  },
  {
   "cell_type": "markdown",
   "id": "92b9253f-a50e-40be-b1c8-cf1a997ba671",
   "metadata": {},
   "source": [
    "# associatividade"
   ]
  },
  {
   "cell_type": "code",
   "execution_count": 7,
   "id": "267556b7-1dfc-4cee-94ca-a2b2acc4dcb5",
   "metadata": {},
   "outputs": [
    {
     "data": {
      "text/plain": [
       "6"
      ]
     },
     "execution_count": 7,
     "metadata": {},
     "output_type": "execute_result"
    }
   ],
   "source": [
    "1 + (2 + 3)"
   ]
  },
  {
   "cell_type": "markdown",
   "id": "e2616412-6bf2-4e26-9eb6-21701186a032",
   "metadata": {},
   "source": [
    "# comutatividade e associatividade"
   ]
  },
  {
   "cell_type": "code",
   "execution_count": 10,
   "id": "4d2ae33a-17d6-462f-b446-8004498e2c13",
   "metadata": {},
   "outputs": [
    {
     "data": {
      "text/plain": [
       "True"
      ]
     },
     "execution_count": 10,
     "metadata": {},
     "output_type": "execute_result"
    }
   ],
   "source": [
    "2 + (3 + 1) == (1 + 2) + 3"
   ]
  },
  {
   "cell_type": "markdown",
   "id": "a3b9a9f0-4595-4ebb-a9d9-57de6c6af40e",
   "metadata": {},
   "source": [
    "# 0 é o elemento neutro da adição nos naturais"
   ]
  },
  {
   "cell_type": "code",
   "execution_count": 11,
   "id": "7311ac85-9f49-4082-9368-f03ca2123f0e",
   "metadata": {},
   "outputs": [
    {
     "data": {
      "text/plain": [
       "7"
      ]
     },
     "execution_count": 11,
     "metadata": {},
     "output_type": "execute_result"
    }
   ],
   "source": [
    "7 + 0"
   ]
  },
  {
   "cell_type": "markdown",
   "id": "8035fb32-5409-419a-b73a-e6abfac098e7",
   "metadata": {},
   "source": [
    "# Subtração"
   ]
  },
  {
   "cell_type": "code",
   "execution_count": 14,
   "id": "bbd1d537-bd4b-4e58-97f6-8be001051f19",
   "metadata": {},
   "outputs": [
    {
     "data": {
      "text/plain": [
       "8"
      ]
     },
     "execution_count": 14,
     "metadata": {},
     "output_type": "execute_result"
    }
   ],
   "source": [
    "8 - 0"
   ]
  },
  {
   "cell_type": "markdown",
   "id": "8933c9f2-209d-4cab-9cee-0042cb850bfc",
   "metadata": {},
   "source": [
    "# não é comutativa"
   ]
  },
  {
   "cell_type": "code",
   "execution_count": 15,
   "id": "805f279f-bc37-4d67-8d07-67e7a8e02fa1",
   "metadata": {},
   "outputs": [
    {
     "data": {
      "text/plain": [
       "4"
      ]
     },
     "execution_count": 15,
     "metadata": {},
     "output_type": "execute_result"
    }
   ],
   "source": [
    "7 - 3"
   ]
  },
  {
   "cell_type": "code",
   "execution_count": 16,
   "id": "601ae3a9-f105-4881-9d4e-e2ba1cd8cdf0",
   "metadata": {},
   "outputs": [
    {
     "data": {
      "text/plain": [
       "-4"
      ]
     },
     "execution_count": 16,
     "metadata": {},
     "output_type": "execute_result"
    }
   ],
   "source": [
    "3 - 7"
   ]
  },
  {
   "cell_type": "markdown",
   "id": "04a7e7ae-3c92-4342-9611-be57a0a68088",
   "metadata": {},
   "source": [
    "# Multiplicação\n",
    "\n",
    "Propriedades\n",
    "1. Comutatividade\n",
    "2. Associatividade\n",
    "3. Fechamento\n",
    "4. Elemento Neutro"
   ]
  },
  {
   "cell_type": "markdown",
   "id": "9b0e4e58-8b6b-4d59-a066-65f5a19c7911",
   "metadata": {},
   "source": [
    "# comutatividade"
   ]
  },
  {
   "cell_type": "code",
   "execution_count": 18,
   "id": "a43b90af-4dfd-4a42-8ef1-4daff7fa6f4a",
   "metadata": {},
   "outputs": [
    {
     "data": {
      "text/plain": [
       "True"
      ]
     },
     "execution_count": 18,
     "metadata": {},
     "output_type": "execute_result"
    }
   ],
   "source": [
    "7 * 8 == 8 * 7"
   ]
  },
  {
   "cell_type": "markdown",
   "id": "294bc005-b50b-4a22-9f50-febd3b70b83f",
   "metadata": {},
   "source": [
    "# associatividade"
   ]
  },
  {
   "cell_type": "code",
   "execution_count": 20,
   "id": "f20f9156-571e-46ce-aa4f-6051bc1e930d",
   "metadata": {},
   "outputs": [
    {
     "data": {
      "text/plain": [
       "True"
      ]
     },
     "execution_count": 20,
     "metadata": {},
     "output_type": "execute_result"
    }
   ],
   "source": [
    "(7 * 8) * 9 == 8 * (7 * 9)"
   ]
  },
  {
   "cell_type": "markdown",
   "id": "06fcbab5-eae7-4227-8c94-c2d4a71449f4",
   "metadata": {},
   "source": [
    "# elemento neutro"
   ]
  },
  {
   "cell_type": "code",
   "execution_count": 21,
   "id": "75709586-466f-47b2-ae83-69b5eeaadb52",
   "metadata": {},
   "outputs": [
    {
     "data": {
      "text/plain": [
       "5"
      ]
     },
     "execution_count": 21,
     "metadata": {},
     "output_type": "execute_result"
    }
   ],
   "source": [
    "1 * 5"
   ]
  },
  {
   "cell_type": "markdown",
   "id": "115a6a07-5313-4e5f-8a1b-04438df0da11",
   "metadata": {},
   "source": [
    "# Divisão"
   ]
  },
  {
   "cell_type": "code",
   "execution_count": 51,
   "id": "510a37c7-bf1c-4342-97ce-6d9ea002ad98",
   "metadata": {},
   "outputs": [
    {
     "data": {
      "text/plain": [
       "4"
      ]
     },
     "execution_count": 51,
     "metadata": {},
     "output_type": "execute_result"
    }
   ],
   "source": [
    "8 // 2"
   ]
  },
  {
   "cell_type": "markdown",
   "id": "55365fcb-6937-47d4-a17f-4ef98a854cab",
   "metadata": {},
   "source": [
    "* 8 - dividendo\n",
    "* 2 - divisor\n",
    "* 4 - quociente\n",
    "* 0 - resto\n",
    "\n",
    "Como o resto é 0, podemos dizer que 2 divide 8; ou que 8 **é divisível** por 2"
   ]
  },
  {
   "cell_type": "code",
   "execution_count": 24,
   "id": "3db17ef4-aeb9-4707-8ac2-3db820512584",
   "metadata": {},
   "outputs": [
    {
     "data": {
      "text/plain": [
       "4"
      ]
     },
     "execution_count": 24,
     "metadata": {},
     "output_type": "execute_result"
    }
   ],
   "source": [
    "9 // 2"
   ]
  },
  {
   "cell_type": "markdown",
   "id": "dc032ef9-4870-4552-849c-40f85e2b46a5",
   "metadata": {},
   "source": [
    "# 4 é o quociente"
   ]
  },
  {
   "cell_type": "markdown",
   "id": "a013ea95-acb0-4332-9fc0-525f33a71119",
   "metadata": {},
   "source": [
    "# e resto é 1"
   ]
  },
  {
   "cell_type": "markdown",
   "id": "2e78628a-de0d-47c1-93bb-c6a1527ce78c",
   "metadata": {},
   "source": [
    "# resto da divisão com operador % - módulo"
   ]
  },
  {
   "cell_type": "code",
   "execution_count": 26,
   "id": "ed96376a-aa12-428d-b8a2-42fa5ea3fe06",
   "metadata": {},
   "outputs": [
    {
     "data": {
      "text/plain": [
       "1"
      ]
     },
     "execution_count": 26,
     "metadata": {},
     "output_type": "execute_result"
    }
   ],
   "source": [
    "9 % 2"
   ]
  },
  {
   "cell_type": "markdown",
   "id": "0a28ba2a-d688-4cdc-b66b-9020f36ad193",
   "metadata": {},
   "source": [
    "## Sucessor de um número natural"
   ]
  },
  {
   "cell_type": "markdown",
   "id": "78224aed-d04e-4c29-861d-5b2dadfb915b",
   "metadata": {},
   "source": [
    "0, 1, 2, 3, 4, 5, 6, 7, 8, 9, 10, 11, 12, 13..."
   ]
  },
  {
   "cell_type": "code",
   "execution_count": 28,
   "id": "c0d9d4f0-f2e5-482c-b3cd-a7ed62bb78be",
   "metadata": {},
   "outputs": [],
   "source": [
    "def sucessor(n):\n",
    "    return n + 1"
   ]
  },
  {
   "cell_type": "code",
   "execution_count": 29,
   "id": "3496639c-6755-4628-aeac-4f8e62eb01bd",
   "metadata": {},
   "outputs": [
    {
     "data": {
      "text/plain": [
       "28"
      ]
     },
     "execution_count": 29,
     "metadata": {},
     "output_type": "execute_result"
    }
   ],
   "source": [
    "sucessor(27)"
   ]
  },
  {
   "cell_type": "markdown",
   "id": "33a5eb59-d226-4f20-804d-55ec2d4ac966",
   "metadata": {},
   "source": [
    "## Antecessor de um número natural"
   ]
  },
  {
   "cell_type": "code",
   "execution_count": 30,
   "id": "2c1361fe-6378-4dd0-8b84-d6b50ea0b9c7",
   "metadata": {},
   "outputs": [],
   "source": [
    "def antecessor(n):\n",
    "    if n == 0:\n",
    "        raise ValueError(\"Zero não tem antecessor\")\n",
    "    else:\n",
    "        return n - 1"
   ]
  },
  {
   "cell_type": "code",
   "execution_count": 31,
   "id": "7aee21c8-4fcf-475a-b625-0f339b0cea35",
   "metadata": {},
   "outputs": [
    {
     "data": {
      "text/plain": [
       "21"
      ]
     },
     "execution_count": 31,
     "metadata": {},
     "output_type": "execute_result"
    }
   ],
   "source": [
    "antecessor(22)"
   ]
  },
  {
   "cell_type": "markdown",
   "id": "de9b4276-fb03-490d-8291-6a69bf0db807",
   "metadata": {},
   "source": [
    "# Múltiplos \n",
    "\n",
    "**Quais são os múltiplos de 2?**\n",
    "\n",
    "– São todos os números que são divisíveis por 2\n",
    "\n",
    "– São os números da forma 2 * algumacoisa"
   ]
  },
  {
   "cell_type": "code",
   "execution_count": 32,
   "id": "285ba052-3b13-4de0-a9fb-937565bb798b",
   "metadata": {},
   "outputs": [
    {
     "data": {
      "text/plain": [
       "True"
      ]
     },
     "execution_count": 32,
     "metadata": {},
     "output_type": "execute_result"
    }
   ],
   "source": [
    "8 == 2 * 4"
   ]
  },
  {
   "cell_type": "code",
   "execution_count": 37,
   "id": "a0a1377b-e496-46b3-9c96-529a1a0db09d",
   "metadata": {},
   "outputs": [],
   "source": [
    "def multiplos_de_2(k):\n",
    "    resposta = []\n",
    "    for i in range(k + 1):\n",
    "        resposta.append(2 * i)\n",
    "    return resposta"
   ]
  },
  {
   "cell_type": "code",
   "execution_count": 39,
   "id": "48dfce05-3c94-4a62-a299-1a4b455edb44",
   "metadata": {},
   "outputs": [
    {
     "data": {
      "text/plain": [
       "[0, 2, 4, 6, 8, 10, 12, 14, 16, 18, 20]"
      ]
     },
     "execution_count": 39,
     "metadata": {},
     "output_type": "execute_result"
    }
   ],
   "source": [
    "multiplos_de_2(10)"
   ]
  },
  {
   "cell_type": "code",
   "execution_count": 40,
   "id": "677d0260-76df-4938-a813-84a0d8e74841",
   "metadata": {},
   "outputs": [],
   "source": [
    "def multiplos(n, k=10):\n",
    "    resposta = []\n",
    "    for i in range(k + 1):\n",
    "        resposta.append(n * i)\n",
    "    return resposta"
   ]
  },
  {
   "cell_type": "code",
   "execution_count": 41,
   "id": "70b9d4cc-e9f4-4f8e-a67d-5980d60becec",
   "metadata": {},
   "outputs": [
    {
     "data": {
      "text/plain": [
       "[0, 3, 6, 9, 12, 15, 18, 21, 24, 27, 30, 33, 36, 39, 42, 45]"
      ]
     },
     "execution_count": 41,
     "metadata": {},
     "output_type": "execute_result"
    }
   ],
   "source": [
    "multiplos(3, 15)"
   ]
  },
  {
   "cell_type": "markdown",
   "id": "e60a74bb-4507-4d92-8d1b-2e57443ab4b8",
   "metadata": {},
   "source": [
    "# Divisores\n",
    "\n",
    "O divisor de um número natural **$n$** é um número que **divide $n$**; em outras palavras, **$n$** é divisível pelos seus divisores."
   ]
  },
  {
   "cell_type": "markdown",
   "id": "b4c8e319-002a-4ce1-a689-b3c476adc4b4",
   "metadata": {},
   "source": [
    "Encontrar todos os divisores de um número passa por resolver o problema da **fatoração em primos**"
   ]
  },
  {
   "cell_type": "markdown",
   "id": "c75b219a-4615-4dab-90fa-ea600c82d7ea",
   "metadata": {},
   "source": [
    "# EXERCÍCIO: Implementar Pedra, Papel e Tesoura com ordenação circular\n",
    "# Pedra, Papel e Tesoura"
   ]
  },
  {
   "cell_type": "code",
   "execution_count": 49,
   "id": "aadea25d-6d75-42b5-901b-e1fc42631612",
   "metadata": {},
   "outputs": [
    {
     "data": {
      "text/markdown": [
       "jogador2 venceu"
      ],
      "text/plain": [
       "<IPython.core.display.Markdown object>"
      ]
     },
     "metadata": {},
     "output_type": "display_data"
    }
   ],
   "source": [
    "def game(rock=1, scissors=2, paper=3):\n",
    "    jogador1 = rock\n",
    "    jogador2 = paper\n",
    "    if jogador1 == jogador2:\n",
    "        display(Markdown(\"empate\"))\n",
    "    elif jogador1 == (jogador2 + 1) % 3:\n",
    "        display(Markdown(\"jogador2 venceu\"))\n",
    "    else:\n",
    "        display(Markdown(\"jogador1 venceu\"))\n",
    "\n",
    "game()"
   ]
  },
  {
   "cell_type": "code",
   "execution_count": null,
   "id": "782ee463-04b9-4f9b-899b-0e63947b12b8",
   "metadata": {},
   "outputs": [],
   "source": []
  }
 ],
 "metadata": {
  "kernelspec": {
   "display_name": "Python 3 (ipykernel)",
   "language": "python",
   "name": "python3"
  },
  "language_info": {
   "codemirror_mode": {
    "name": "ipython",
    "version": 3
   },
   "file_extension": ".py",
   "mimetype": "text/x-python",
   "name": "python",
   "nbconvert_exporter": "python",
   "pygments_lexer": "ipython3",
   "version": "3.13.0"
  }
 },
 "nbformat": 4,
 "nbformat_minor": 5
}
